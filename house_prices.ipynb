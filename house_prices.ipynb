{
 "cells": [
  {
   "cell_type": "markdown",
   "metadata": {},
   "source": [
    "With 79 explanatory variables describing (almost) every aspect of residential homes in Ames, Iowa, this competition challenges you to predict the final price of each home."
   ]
  },
  {
   "cell_type": "markdown",
   "metadata": {},
   "source": [
    "** File descriptions **\n",
    "\n",
    "- train.csv - the training set\n",
    "- test.csv - the test set\n",
    "- data_description.txt - full description of each column, originally prepared by Dean De Cock but lightly edited to match the column names used here\n",
    "- sample_submission.csv - a benchmark submission from a linear regression on year and month of sale, lot square footage, and number of bedrooms"
   ]
  },
  {
   "cell_type": "code",
   "execution_count": 1,
   "metadata": {
    "collapsed": false
   },
   "outputs": [],
   "source": [
    "import pandas as pd\n",
    "import numpy as np\n",
    "from sklearn.linear_model import LinearRegression\n",
    "from sklearn.linear_model import LogisticRegression\n",
    "from sklearn import preprocessing \n",
    "from sklearn.tree import DecisionTreeRegressor\n",
    "from sklearn.metrics import make_scorer\n",
    "from sklearn.model_selection import GridSearchCV\n",
    "from sklearn.model_selection import ShuffleSplit\n",
    "from sklearn.decomposition import PCA\n",
    "from sklearn.ensemble import RandomForestClassifier, AdaBoostClassifier\n",
    "from sklearn.neural_network import MLPClassifier\n",
    "from sklearn.naive_bayes import GaussianNB\n",
    "from sklearn.neighbors import KNeighborsClassifier\n",
    "from sklearn.svm import SVC\n",
    "from sklearn.gaussian_process import GaussianProcessClassifier\n",
    "from sklearn.gaussian_process.kernels import RBF\n",
    "from sklearn.tree import DecisionTreeClassifier\n",
    "from sklearn.discriminant_analysis import QuadraticDiscriminantAnalysis"
   ]
  },
  {
   "cell_type": "code",
   "execution_count": 3,
   "metadata": {
    "collapsed": false
   },
   "outputs": [
    {
     "name": "stdout",
     "output_type": "stream",
     "text": [
      "999\n"
     ]
    }
   ],
   "source": [
    "print(pd.get_option(\"display.max_columns\"))\n",
    "pd.options.display.max_columns = 999\n",
    "\n",
    "# Load the housing dataset\n",
    "data = pd.read_csv('train.csv')\n",
    "test = pd.read_csv('test.csv')\n",
    "# data.describe()"
   ]
  },
  {
   "cell_type": "code",
   "execution_count": null,
   "metadata": {
    "collapsed": false
   },
   "outputs": [],
   "source": [
    "# test.describe()"
   ]
  },
  {
   "cell_type": "markdown",
   "metadata": {},
   "source": [
    "### Benchmark Linear Regression\n",
    "A benchmark submission from a linear regression on year and month of sale, lot square footage, and number of bedrooms."
   ]
  },
  {
   "cell_type": "code",
   "execution_count": 4,
   "metadata": {
    "collapsed": false
   },
   "outputs": [
    {
     "data": {
      "text/html": [
       "<div>\n",
       "<table border=\"1\" class=\"dataframe\">\n",
       "  <thead>\n",
       "    <tr style=\"text-align: right;\">\n",
       "      <th></th>\n",
       "      <th>Id</th>\n",
       "      <th>MSSubClass</th>\n",
       "      <th>MSZoning</th>\n",
       "      <th>LotFrontage</th>\n",
       "      <th>LotArea</th>\n",
       "      <th>Street</th>\n",
       "      <th>Alley</th>\n",
       "      <th>LotShape</th>\n",
       "      <th>LandContour</th>\n",
       "      <th>Utilities</th>\n",
       "      <th>LotConfig</th>\n",
       "      <th>LandSlope</th>\n",
       "      <th>Neighborhood</th>\n",
       "      <th>Condition1</th>\n",
       "      <th>Condition2</th>\n",
       "      <th>BldgType</th>\n",
       "      <th>HouseStyle</th>\n",
       "      <th>OverallQual</th>\n",
       "      <th>OverallCond</th>\n",
       "      <th>YearBuilt</th>\n",
       "      <th>YearRemodAdd</th>\n",
       "      <th>RoofStyle</th>\n",
       "      <th>RoofMatl</th>\n",
       "      <th>Exterior1st</th>\n",
       "      <th>Exterior2nd</th>\n",
       "      <th>MasVnrType</th>\n",
       "      <th>MasVnrArea</th>\n",
       "      <th>ExterQual</th>\n",
       "      <th>ExterCond</th>\n",
       "      <th>Foundation</th>\n",
       "      <th>BsmtQual</th>\n",
       "      <th>BsmtCond</th>\n",
       "      <th>BsmtExposure</th>\n",
       "      <th>BsmtFinType1</th>\n",
       "      <th>BsmtFinSF1</th>\n",
       "      <th>BsmtFinType2</th>\n",
       "      <th>BsmtFinSF2</th>\n",
       "      <th>BsmtUnfSF</th>\n",
       "      <th>TotalBsmtSF</th>\n",
       "      <th>Heating</th>\n",
       "      <th>HeatingQC</th>\n",
       "      <th>CentralAir</th>\n",
       "      <th>Electrical</th>\n",
       "      <th>1stFlrSF</th>\n",
       "      <th>2ndFlrSF</th>\n",
       "      <th>LowQualFinSF</th>\n",
       "      <th>GrLivArea</th>\n",
       "      <th>BsmtFullBath</th>\n",
       "      <th>BsmtHalfBath</th>\n",
       "      <th>FullBath</th>\n",
       "      <th>HalfBath</th>\n",
       "      <th>BedroomAbvGr</th>\n",
       "      <th>KitchenAbvGr</th>\n",
       "      <th>KitchenQual</th>\n",
       "      <th>TotRmsAbvGrd</th>\n",
       "      <th>Functional</th>\n",
       "      <th>Fireplaces</th>\n",
       "      <th>FireplaceQu</th>\n",
       "      <th>GarageType</th>\n",
       "      <th>GarageYrBlt</th>\n",
       "      <th>GarageFinish</th>\n",
       "      <th>GarageCars</th>\n",
       "      <th>GarageArea</th>\n",
       "      <th>GarageQual</th>\n",
       "      <th>GarageCond</th>\n",
       "      <th>PavedDrive</th>\n",
       "      <th>WoodDeckSF</th>\n",
       "      <th>OpenPorchSF</th>\n",
       "      <th>EnclosedPorch</th>\n",
       "      <th>3SsnPorch</th>\n",
       "      <th>ScreenPorch</th>\n",
       "      <th>PoolArea</th>\n",
       "      <th>PoolQC</th>\n",
       "      <th>Fence</th>\n",
       "      <th>MiscFeature</th>\n",
       "      <th>MiscVal</th>\n",
       "      <th>MoSold</th>\n",
       "      <th>YrSold</th>\n",
       "      <th>SaleType</th>\n",
       "      <th>SaleCondition</th>\n",
       "      <th>SalePrice</th>\n",
       "    </tr>\n",
       "  </thead>\n",
       "  <tbody>\n",
       "    <tr>\n",
       "      <th>0</th>\n",
       "      <td>1</td>\n",
       "      <td>60</td>\n",
       "      <td>RL</td>\n",
       "      <td>65.0</td>\n",
       "      <td>8450</td>\n",
       "      <td>Pave</td>\n",
       "      <td>NaN</td>\n",
       "      <td>Reg</td>\n",
       "      <td>Lvl</td>\n",
       "      <td>AllPub</td>\n",
       "      <td>Inside</td>\n",
       "      <td>Gtl</td>\n",
       "      <td>CollgCr</td>\n",
       "      <td>Norm</td>\n",
       "      <td>Norm</td>\n",
       "      <td>1Fam</td>\n",
       "      <td>2Story</td>\n",
       "      <td>7</td>\n",
       "      <td>5</td>\n",
       "      <td>2003</td>\n",
       "      <td>2003</td>\n",
       "      <td>Gable</td>\n",
       "      <td>CompShg</td>\n",
       "      <td>VinylSd</td>\n",
       "      <td>VinylSd</td>\n",
       "      <td>BrkFace</td>\n",
       "      <td>196.0</td>\n",
       "      <td>Gd</td>\n",
       "      <td>TA</td>\n",
       "      <td>PConc</td>\n",
       "      <td>Gd</td>\n",
       "      <td>TA</td>\n",
       "      <td>No</td>\n",
       "      <td>GLQ</td>\n",
       "      <td>706</td>\n",
       "      <td>Unf</td>\n",
       "      <td>0</td>\n",
       "      <td>150</td>\n",
       "      <td>856</td>\n",
       "      <td>GasA</td>\n",
       "      <td>Ex</td>\n",
       "      <td>Y</td>\n",
       "      <td>SBrkr</td>\n",
       "      <td>856</td>\n",
       "      <td>854</td>\n",
       "      <td>0</td>\n",
       "      <td>1710</td>\n",
       "      <td>1</td>\n",
       "      <td>0</td>\n",
       "      <td>2</td>\n",
       "      <td>1</td>\n",
       "      <td>3</td>\n",
       "      <td>1</td>\n",
       "      <td>Gd</td>\n",
       "      <td>8</td>\n",
       "      <td>Typ</td>\n",
       "      <td>0</td>\n",
       "      <td>NaN</td>\n",
       "      <td>Attchd</td>\n",
       "      <td>2003.0</td>\n",
       "      <td>RFn</td>\n",
       "      <td>2</td>\n",
       "      <td>548</td>\n",
       "      <td>TA</td>\n",
       "      <td>TA</td>\n",
       "      <td>Y</td>\n",
       "      <td>0</td>\n",
       "      <td>61</td>\n",
       "      <td>0</td>\n",
       "      <td>0</td>\n",
       "      <td>0</td>\n",
       "      <td>0</td>\n",
       "      <td>NaN</td>\n",
       "      <td>NaN</td>\n",
       "      <td>NaN</td>\n",
       "      <td>0</td>\n",
       "      <td>2</td>\n",
       "      <td>2008</td>\n",
       "      <td>WD</td>\n",
       "      <td>Normal</td>\n",
       "      <td>208500</td>\n",
       "    </tr>\n",
       "    <tr>\n",
       "      <th>1</th>\n",
       "      <td>2</td>\n",
       "      <td>20</td>\n",
       "      <td>RL</td>\n",
       "      <td>80.0</td>\n",
       "      <td>9600</td>\n",
       "      <td>Pave</td>\n",
       "      <td>NaN</td>\n",
       "      <td>Reg</td>\n",
       "      <td>Lvl</td>\n",
       "      <td>AllPub</td>\n",
       "      <td>FR2</td>\n",
       "      <td>Gtl</td>\n",
       "      <td>Veenker</td>\n",
       "      <td>Feedr</td>\n",
       "      <td>Norm</td>\n",
       "      <td>1Fam</td>\n",
       "      <td>1Story</td>\n",
       "      <td>6</td>\n",
       "      <td>8</td>\n",
       "      <td>1976</td>\n",
       "      <td>1976</td>\n",
       "      <td>Gable</td>\n",
       "      <td>CompShg</td>\n",
       "      <td>MetalSd</td>\n",
       "      <td>MetalSd</td>\n",
       "      <td>None</td>\n",
       "      <td>0.0</td>\n",
       "      <td>TA</td>\n",
       "      <td>TA</td>\n",
       "      <td>CBlock</td>\n",
       "      <td>Gd</td>\n",
       "      <td>TA</td>\n",
       "      <td>Gd</td>\n",
       "      <td>ALQ</td>\n",
       "      <td>978</td>\n",
       "      <td>Unf</td>\n",
       "      <td>0</td>\n",
       "      <td>284</td>\n",
       "      <td>1262</td>\n",
       "      <td>GasA</td>\n",
       "      <td>Ex</td>\n",
       "      <td>Y</td>\n",
       "      <td>SBrkr</td>\n",
       "      <td>1262</td>\n",
       "      <td>0</td>\n",
       "      <td>0</td>\n",
       "      <td>1262</td>\n",
       "      <td>0</td>\n",
       "      <td>1</td>\n",
       "      <td>2</td>\n",
       "      <td>0</td>\n",
       "      <td>3</td>\n",
       "      <td>1</td>\n",
       "      <td>TA</td>\n",
       "      <td>6</td>\n",
       "      <td>Typ</td>\n",
       "      <td>1</td>\n",
       "      <td>TA</td>\n",
       "      <td>Attchd</td>\n",
       "      <td>1976.0</td>\n",
       "      <td>RFn</td>\n",
       "      <td>2</td>\n",
       "      <td>460</td>\n",
       "      <td>TA</td>\n",
       "      <td>TA</td>\n",
       "      <td>Y</td>\n",
       "      <td>298</td>\n",
       "      <td>0</td>\n",
       "      <td>0</td>\n",
       "      <td>0</td>\n",
       "      <td>0</td>\n",
       "      <td>0</td>\n",
       "      <td>NaN</td>\n",
       "      <td>NaN</td>\n",
       "      <td>NaN</td>\n",
       "      <td>0</td>\n",
       "      <td>5</td>\n",
       "      <td>2007</td>\n",
       "      <td>WD</td>\n",
       "      <td>Normal</td>\n",
       "      <td>181500</td>\n",
       "    </tr>\n",
       "    <tr>\n",
       "      <th>2</th>\n",
       "      <td>3</td>\n",
       "      <td>60</td>\n",
       "      <td>RL</td>\n",
       "      <td>68.0</td>\n",
       "      <td>11250</td>\n",
       "      <td>Pave</td>\n",
       "      <td>NaN</td>\n",
       "      <td>IR1</td>\n",
       "      <td>Lvl</td>\n",
       "      <td>AllPub</td>\n",
       "      <td>Inside</td>\n",
       "      <td>Gtl</td>\n",
       "      <td>CollgCr</td>\n",
       "      <td>Norm</td>\n",
       "      <td>Norm</td>\n",
       "      <td>1Fam</td>\n",
       "      <td>2Story</td>\n",
       "      <td>7</td>\n",
       "      <td>5</td>\n",
       "      <td>2001</td>\n",
       "      <td>2002</td>\n",
       "      <td>Gable</td>\n",
       "      <td>CompShg</td>\n",
       "      <td>VinylSd</td>\n",
       "      <td>VinylSd</td>\n",
       "      <td>BrkFace</td>\n",
       "      <td>162.0</td>\n",
       "      <td>Gd</td>\n",
       "      <td>TA</td>\n",
       "      <td>PConc</td>\n",
       "      <td>Gd</td>\n",
       "      <td>TA</td>\n",
       "      <td>Mn</td>\n",
       "      <td>GLQ</td>\n",
       "      <td>486</td>\n",
       "      <td>Unf</td>\n",
       "      <td>0</td>\n",
       "      <td>434</td>\n",
       "      <td>920</td>\n",
       "      <td>GasA</td>\n",
       "      <td>Ex</td>\n",
       "      <td>Y</td>\n",
       "      <td>SBrkr</td>\n",
       "      <td>920</td>\n",
       "      <td>866</td>\n",
       "      <td>0</td>\n",
       "      <td>1786</td>\n",
       "      <td>1</td>\n",
       "      <td>0</td>\n",
       "      <td>2</td>\n",
       "      <td>1</td>\n",
       "      <td>3</td>\n",
       "      <td>1</td>\n",
       "      <td>Gd</td>\n",
       "      <td>6</td>\n",
       "      <td>Typ</td>\n",
       "      <td>1</td>\n",
       "      <td>TA</td>\n",
       "      <td>Attchd</td>\n",
       "      <td>2001.0</td>\n",
       "      <td>RFn</td>\n",
       "      <td>2</td>\n",
       "      <td>608</td>\n",
       "      <td>TA</td>\n",
       "      <td>TA</td>\n",
       "      <td>Y</td>\n",
       "      <td>0</td>\n",
       "      <td>42</td>\n",
       "      <td>0</td>\n",
       "      <td>0</td>\n",
       "      <td>0</td>\n",
       "      <td>0</td>\n",
       "      <td>NaN</td>\n",
       "      <td>NaN</td>\n",
       "      <td>NaN</td>\n",
       "      <td>0</td>\n",
       "      <td>9</td>\n",
       "      <td>2008</td>\n",
       "      <td>WD</td>\n",
       "      <td>Normal</td>\n",
       "      <td>223500</td>\n",
       "    </tr>\n",
       "  </tbody>\n",
       "</table>\n",
       "</div>"
      ],
      "text/plain": [
       "   Id  MSSubClass MSZoning  LotFrontage  LotArea Street Alley LotShape  \\\n",
       "0   1          60       RL         65.0     8450   Pave   NaN      Reg   \n",
       "1   2          20       RL         80.0     9600   Pave   NaN      Reg   \n",
       "2   3          60       RL         68.0    11250   Pave   NaN      IR1   \n",
       "\n",
       "  LandContour Utilities LotConfig LandSlope Neighborhood Condition1  \\\n",
       "0         Lvl    AllPub    Inside       Gtl      CollgCr       Norm   \n",
       "1         Lvl    AllPub       FR2       Gtl      Veenker      Feedr   \n",
       "2         Lvl    AllPub    Inside       Gtl      CollgCr       Norm   \n",
       "\n",
       "  Condition2 BldgType HouseStyle  OverallQual  OverallCond  YearBuilt  \\\n",
       "0       Norm     1Fam     2Story            7            5       2003   \n",
       "1       Norm     1Fam     1Story            6            8       1976   \n",
       "2       Norm     1Fam     2Story            7            5       2001   \n",
       "\n",
       "   YearRemodAdd RoofStyle RoofMatl Exterior1st Exterior2nd MasVnrType  \\\n",
       "0          2003     Gable  CompShg     VinylSd     VinylSd    BrkFace   \n",
       "1          1976     Gable  CompShg     MetalSd     MetalSd       None   \n",
       "2          2002     Gable  CompShg     VinylSd     VinylSd    BrkFace   \n",
       "\n",
       "   MasVnrArea ExterQual ExterCond Foundation BsmtQual BsmtCond BsmtExposure  \\\n",
       "0       196.0        Gd        TA      PConc       Gd       TA           No   \n",
       "1         0.0        TA        TA     CBlock       Gd       TA           Gd   \n",
       "2       162.0        Gd        TA      PConc       Gd       TA           Mn   \n",
       "\n",
       "  BsmtFinType1  BsmtFinSF1 BsmtFinType2  BsmtFinSF2  BsmtUnfSF  TotalBsmtSF  \\\n",
       "0          GLQ         706          Unf           0        150          856   \n",
       "1          ALQ         978          Unf           0        284         1262   \n",
       "2          GLQ         486          Unf           0        434          920   \n",
       "\n",
       "  Heating HeatingQC CentralAir Electrical  1stFlrSF  2ndFlrSF  LowQualFinSF  \\\n",
       "0    GasA        Ex          Y      SBrkr       856       854             0   \n",
       "1    GasA        Ex          Y      SBrkr      1262         0             0   \n",
       "2    GasA        Ex          Y      SBrkr       920       866             0   \n",
       "\n",
       "   GrLivArea  BsmtFullBath  BsmtHalfBath  FullBath  HalfBath  BedroomAbvGr  \\\n",
       "0       1710             1             0         2         1             3   \n",
       "1       1262             0             1         2         0             3   \n",
       "2       1786             1             0         2         1             3   \n",
       "\n",
       "   KitchenAbvGr KitchenQual  TotRmsAbvGrd Functional  Fireplaces FireplaceQu  \\\n",
       "0             1          Gd             8        Typ           0         NaN   \n",
       "1             1          TA             6        Typ           1          TA   \n",
       "2             1          Gd             6        Typ           1          TA   \n",
       "\n",
       "  GarageType  GarageYrBlt GarageFinish  GarageCars  GarageArea GarageQual  \\\n",
       "0     Attchd       2003.0          RFn           2         548         TA   \n",
       "1     Attchd       1976.0          RFn           2         460         TA   \n",
       "2     Attchd       2001.0          RFn           2         608         TA   \n",
       "\n",
       "  GarageCond PavedDrive  WoodDeckSF  OpenPorchSF  EnclosedPorch  3SsnPorch  \\\n",
       "0         TA          Y           0           61              0          0   \n",
       "1         TA          Y         298            0              0          0   \n",
       "2         TA          Y           0           42              0          0   \n",
       "\n",
       "   ScreenPorch  PoolArea PoolQC Fence MiscFeature  MiscVal  MoSold  YrSold  \\\n",
       "0            0         0    NaN   NaN         NaN        0       2    2008   \n",
       "1            0         0    NaN   NaN         NaN        0       5    2007   \n",
       "2            0         0    NaN   NaN         NaN        0       9    2008   \n",
       "\n",
       "  SaleType SaleCondition  SalePrice  \n",
       "0       WD        Normal     208500  \n",
       "1       WD        Normal     181500  \n",
       "2       WD        Normal     223500  "
      ]
     },
     "execution_count": 4,
     "metadata": {},
     "output_type": "execute_result"
    }
   ],
   "source": [
    "data.head(3)"
   ]
  },
  {
   "cell_type": "code",
   "execution_count": 5,
   "metadata": {
    "collapsed": false
   },
   "outputs": [
    {
     "name": "stdout",
     "output_type": "stream",
     "text": [
      "                Id      SalePrice\n",
      "count  1459.000000    1459.000000\n",
      "mean   2190.000000  179183.918243\n",
      "std     421.321334   16518.303051\n",
      "min    1461.000000  135751.318893\n",
      "25%    1825.500000  168703.011202\n",
      "50%    2190.000000  179208.665698\n",
      "75%    2554.500000  186789.409363\n",
      "max    2919.000000  281643.976117\n"
     ]
    }
   ],
   "source": [
    "lr = LinearRegression()\n",
    "X = data[['YrSold', 'MoSold', 'LotArea', 'BedroomAbvGr']]\n",
    "y = data[['SalePrice']]\n",
    "X_test = test[['YrSold', 'MoSold', 'LotArea', 'BedroomAbvGr']]\n",
    "lr.fit(X,y)\n",
    "\n",
    "pred = pd.DataFrame(data=lr.predict(X_test))\n",
    "# pred.describe()\n",
    "submission = test[['Id']]\n",
    "submission = submission.join(pred)\n",
    "submission.columns = ['Id', 'SalePrice']\n",
    "print(submission.describe())\n",
    "\n",
    "submission.to_csv(\"submission-lr.csv\", sep=',', index=False)\n",
    "# Score: 0.40890"
   ]
  },
  {
   "cell_type": "markdown",
   "metadata": {},
   "source": [
    "### Logistic Regression Model"
   ]
  },
  {
   "cell_type": "code",
   "execution_count": 6,
   "metadata": {
    "collapsed": false
   },
   "outputs": [
    {
     "name": "stderr",
     "output_type": "stream",
     "text": [
      "/Users/natalyapatrikeeva/anaconda/lib/python2.7/site-packages/sklearn/utils/validation.py:526: DataConversionWarning: A column-vector y was passed when a 1d array was expected. Please change the shape of y to (n_samples, ), for example using ravel().\n",
      "  y = column_or_1d(y, warn=True)\n"
     ]
    },
    {
     "name": "stdout",
     "output_type": "stream",
     "text": [
      "                Id      SalePrice\n",
      "count  1459.000000    1459.000000\n",
      "mean   2190.000000  142395.202879\n",
      "std     421.321334   32875.305616\n",
      "min    1461.000000   60000.000000\n",
      "25%    1825.500000  135000.000000\n",
      "50%    2190.000000  140000.000000\n",
      "75%    2554.500000  140000.000000\n",
      "max    2919.000000  755000.000000\n"
     ]
    }
   ],
   "source": [
    "log = LogisticRegression()\n",
    "X = data[['YrSold', 'MoSold', 'LotArea', 'BedroomAbvGr']]\n",
    "y = data[['SalePrice']]\n",
    "X_test = test[['YrSold', 'MoSold', 'LotArea', 'BedroomAbvGr']]\n",
    "log.fit(X,y)\n",
    "\n",
    "pred = pd.DataFrame(data=log.predict(X_test))\n",
    "submission = test[['Id']]\n",
    "submission = submission.join(pred)\n",
    "submission.columns = ['Id', 'SalePrice']\n",
    "print(submission.describe())\n",
    "\n",
    "submission.to_csv(\"logistic.csv\", sep=',', index=False)\n",
    "# Score: 0.45531 (worse than benchmark)"
   ]
  },
  {
   "cell_type": "markdown",
   "metadata": {},
   "source": [
    "### Data Exploration and Feature Normalization"
   ]
  },
  {
   "cell_type": "code",
   "execution_count": null,
   "metadata": {
    "collapsed": false
   },
   "outputs": [],
   "source": [
    "# data.head(5)"
   ]
  },
  {
   "cell_type": "markdown",
   "metadata": {},
   "source": [
    "### Categorical Features\n",
    "MSSubClass, MSZoning, Street, Alley, LotShape, LandContour, Utilities, LotConfig, LandSlope, Neighborhood, Condition1, Condition2, BldgType, HouseStyle, RoofStyle, RoofMatl, Exterior1st, Exterior2nd, MasVnrType, ExterQual, ExterCond, Foundation, BsmtQual, BsmtExposure, BsmtFinType1, BsmtFinType2, Heating, HeatingQC, CentralAir, Electrical, KitchenQual, Functional, FireplaceQu, GarageType, GarageFinish, GarageQual, GarageCond, PavedDrive, PoolQC, Fence, MiscFeature, SaleType, SaleCondition"
   ]
  },
  {
   "cell_type": "markdown",
   "metadata": {},
   "source": [
    "### Normalize Features"
   ]
  },
  {
   "cell_type": "code",
   "execution_count": null,
   "metadata": {
    "collapsed": false
   },
   "outputs": [],
   "source": [
    "# labels = data['SalePrice']\n",
    "# df_norm = preprocessing.normalize(data.drop(['Id', 'SalePrice'], axis=1), axis=0)\n",
    "# df_norm = pd.DataFrame(df_norm, columns=['MSSubClass','MSZoning','LotFrontage','LotArea','Street','Alley','LotShape','LandContour','Utilities','LotConfig','LandSlope','Neighborhood','Condition1','Condition2','BldgType','HouseStyle','OverallQual','OverallCond','YearBuilt','YearRemodAdd','RoofStyle','RoofMatl','Exterior1st','Exterior2nd','MasVnrType','MasVnrArea','ExterQual','ExterCond','Foundation','BsmtQual','BsmtCond','BsmtExposure','BsmtFinType1','BsmtFinSF1','BsmtFinType2','BsmtFinSF2','BsmtUnfSF','TotalBsmtSF','Heating','HeatingQC','CentralAir','Electrical','1stFlrSF','2ndFlrSF','LowQualFinSF','GrLivArea','BsmtFullBath','BsmtHalfBath','FullBath','HalfBath','BedroomAbvGr','KitchenAbvGr','KitchenQual','TotRmsAbvGrd','Functional','Fireplaces','FireplaceQu','GarageType','GarageYrBlt','GarageFinish','GarageCars','GarageArea','GarageQual','GarageCond','PavedDrive','WoodDeckSF','OpenPorchSF','EnclosedPorch','3SsnPorch','ScreenPorch','PoolArea','PoolQC','Fence','MiscFeature','MiscVal','MoSold','YrSold','SaleType','SaleCondition'])\n",
    "# df_norm.describe()"
   ]
  },
  {
   "cell_type": "markdown",
   "metadata": {},
   "source": [
    "### Feature Correlation"
   ]
  },
  {
   "cell_type": "code",
   "execution_count": null,
   "metadata": {
    "collapsed": false
   },
   "outputs": [],
   "source": [
    "# df_norm.corr()"
   ]
  },
  {
   "cell_type": "markdown",
   "metadata": {},
   "source": [
    "### Correlations with SalePrice variable"
   ]
  },
  {
   "cell_type": "code",
   "execution_count": 7,
   "metadata": {
    "collapsed": false
   },
   "outputs": [],
   "source": [
    "data = pd.read_csv('train.csv')\n",
    "test = pd.read_csv('test.csv')\n",
    "\n",
    "# Fill up NaN's in train and test datasets\n",
    "for df in [data, test]:\n",
    "    df['MSZoning'] = df['MSZoning'].fillna(value=\"NoZoneClass\")\n",
    "    df['Alley'] = df['Alley'].fillna(value=\"NoAccess\")\n",
    "    df['Utilities'] = df['Utilities'].fillna(value=\"NoUtilities\")\n",
    "    df['Exterior1st'] = df['Exterior1st'].fillna(value=\"NoExterior1st\")\n",
    "    df['Exterior2nd'] = df['Exterior2nd'].fillna(value=\"NoExterior2nd\")\n",
    "    df['MasVnrType'] = df['MasVnrType'].fillna(value=\"0\")\n",
    "    df['BsmtQual'] = df['BsmtQual'].fillna(value=\"NoBasement\")\n",
    "    df['BsmtCond'] = df['BsmtCond'].fillna(value=\"NoBasement\")\n",
    "    df['BsmtExposure'] = df['BsmtExposure'].fillna(value=\"NoBasement\")\n",
    "    df['BsmtFinType1'] = df['BsmtFinType1'].fillna(value=\"NoBasement\")\n",
    "    df['BsmtFinSF1'] = df['BsmtFinSF1'].fillna(value=0.0)\n",
    "    df['BsmtFinType2'] = df['BsmtFinType2'].fillna(value=\"NoBasement\")\n",
    "    df['BsmtFinSF2'] = df['BsmtFinSF2'].fillna(value=0.0)\n",
    "    df['BsmtUnfSF'] = df['BsmtUnfSF'].fillna(value=0.0)\n",
    "    df['TotalBsmtSF'] = df['TotalBsmtSF'].fillna(value=0.0)\n",
    "    df['Electrical'] = df['Electrical'].fillna(value=\"0\")\n",
    "    df['BsmtFullBath'] = df['BsmtFullBath'].fillna(value=0.0)\n",
    "    df['BsmtHalfBath'] = df['BsmtHalfBath'].fillna(value=0.0)\n",
    "    df['KitchenQual'] = df['KitchenQual'].fillna(value=\"NoKitchenQual\")\n",
    "    df['Functional'] = df['Functional'].fillna(value=\"NoHomeFunctionality\")\n",
    "    df['FireplaceQu'] = df['FireplaceQu'].fillna(value=\"NoFireplace\")\n",
    "    df['GarageType'] = df['GarageType'].fillna(value=\"NoGarage\")\n",
    "    df['GarageFinish'] = df['GarageFinish'].fillna(value=\"NoGarage\")\n",
    "    df['GarageCars'] = df['GarageCars'].fillna(value=0.0)\n",
    "    df['GarageArea'] = df['GarageArea'].fillna(value=0.0)\n",
    "    df['GarageQual'] = df['GarageQual'].fillna(value=\"NoGarage\")\n",
    "    df['GarageCond'] = df['GarageCond'].fillna(value=\"NoGarage\")\n",
    "    df['PoolQC'] = df['PoolQC'].fillna(value=\"NoPool\")\n",
    "    df['Fence'] = df['Fence'].fillna(value=\"NoFence\")\n",
    "    df['MiscFeature'] = df['MiscFeature'].fillna(value=\"NoMiscFeatures\")\n",
    "    df['LotFrontage'] = df['LotFrontage'].fillna(value=0.0)\n",
    "    df['MasVnrArea'] = df['MasVnrArea'].fillna(value=0.0)\n",
    "    df['GarageYrBlt'] = df['GarageYrBlt'].fillna(value=0.0)\n",
    "    df['SaleType'] = df['SaleType'].fillna(value=\"NoSaleType\")\n",
    "\n",
    "    for feature in ['MSZoning','Street', 'Alley','LotShape','LandContour','Utilities','LotConfig','LandSlope','Neighborhood','Condition1','Condition2','BldgType','HouseStyle','RoofStyle','RoofMatl','Exterior1st','Exterior2nd','MasVnrType','ExterQual','ExterCond','Foundation','BsmtQual','BsmtCond','BsmtExposure','BsmtFinType1','BsmtFinType2','Heating','HeatingQC','CentralAir','Electrical','KitchenQual','Functional','FireplaceQu','GarageType','GarageFinish','GarageQual','GarageCond','PavedDrive','PoolQC','Fence','MiscFeature','SaleType','SaleCondition']:\n",
    "        le = preprocessing.LabelEncoder()\n",
    "        le.fit(df[feature])\n",
    "        df[feature] = le.transform(df[feature])"
   ]
  },
  {
   "cell_type": "code",
   "execution_count": 8,
   "metadata": {
    "collapsed": false
   },
   "outputs": [
    {
     "name": "stdout",
     "output_type": "stream",
     "text": [
      "FullBath       0.560664\n",
      "KitchenQual    0.589189\n",
      "BsmtQual       0.593734\n",
      "1stFlrSF       0.605852\n",
      "TotalBsmtSF    0.613581\n",
      "GarageArea     0.623431\n",
      "ExterQual      0.636884\n",
      "GarageCars     0.640409\n",
      "GrLivArea      0.708624\n",
      "OverallQual    0.790982\n",
      "SalePrice      1.000000\n",
      "Name: SalePrice, dtype: float64\n"
     ]
    }
   ],
   "source": [
    "cor = data.corr()['SalePrice']\n",
    "abs_cor = abs(cor)\n",
    "\n",
    "# 10 most highly correlated features with \"SalePrice\" target variable\n",
    "print(abs_cor.sort_values().tail(11))"
   ]
  },
  {
   "cell_type": "markdown",
   "metadata": {},
   "source": [
    "### Regression Model on 3 features with the highest correlation with SalePrice"
   ]
  },
  {
   "cell_type": "code",
   "execution_count": 9,
   "metadata": {
    "collapsed": false
   },
   "outputs": [
    {
     "name": "stdout",
     "output_type": "stream",
     "text": [
      "                Id      SalePrice\n",
      "count  1459.000000    1459.000000\n",
      "mean   2190.000000  146982.864976\n",
      "std     421.321334   22758.363777\n",
      "min    1461.000000   84500.000000\n",
      "25%    1825.500000  140000.000000\n",
      "50%    2190.000000  140000.000000\n",
      "75%    2554.500000  140000.000000\n",
      "max    2919.000000  256000.000000\n"
     ]
    }
   ],
   "source": [
    "log = LogisticRegression()\n",
    "X = data[['OverallQual', 'GrLivArea', 'GarageCars']]\n",
    "y = data[['SalePrice']]\n",
    "X_test = test[['OverallQual', 'GrLivArea', 'GarageCars']]\n",
    "log.fit(X,y)\n",
    "\n",
    "pred = pd.DataFrame(data=log.predict(X_test))\n",
    "submission = test[['Id']]\n",
    "submission = submission.join(pred)\n",
    "submission.columns = ['Id', 'SalePrice']\n",
    "print(submission.describe())\n",
    "\n",
    "submission.to_csv(\"logistic-3.csv\", sep=',', index=False)\n",
    "# Score: 0.40495 (logistic-5 is better)"
   ]
  },
  {
   "cell_type": "markdown",
   "metadata": {},
   "source": [
    "### Linear Regression Model with features mostly correlated with SalePrice\n",
    " ** Somehow predicted negative price!!! **"
   ]
  },
  {
   "cell_type": "code",
   "execution_count": 10,
   "metadata": {
    "collapsed": false
   },
   "outputs": [
    {
     "name": "stdout",
     "output_type": "stream",
     "text": [
      "                Id      SalePrice\n",
      "count  1459.000000    1459.000000\n",
      "mean   2190.000000  178827.793489\n",
      "std     421.321334   68259.964647\n",
      "min    1461.000000  -14268.988673\n",
      "25%    1825.500000  127642.299964\n",
      "50%    2190.000000  173284.341180\n",
      "75%    2554.500000  221520.313313\n",
      "max    2919.000000  494297.752935\n"
     ]
    }
   ],
   "source": [
    "lr = LinearRegression()\n",
    "X = data[['OverallQual', 'GrLivArea', 'GarageCars']]\n",
    "y = data[['SalePrice']]\n",
    "X_test = test[['OverallQual', 'GrLivArea', 'GarageCars']]\n",
    "lr.fit(X,y)\n",
    "\n",
    "pred = pd.DataFrame(data=lr.predict(X_test))\n",
    "submission = test[['Id']]\n",
    "submission = submission.join(pred)\n",
    "submission.columns = ['Id', 'SalePrice']\n",
    "print(submission.describe())\n",
    "submission.to_csv(\"linear-3.csv\", sep=',', index=False)\n",
    "# Score: not valid!"
   ]
  },
  {
   "cell_type": "markdown",
   "metadata": {},
   "source": [
    "### Logistic regression with more variables"
   ]
  },
  {
   "cell_type": "code",
   "execution_count": 11,
   "metadata": {
    "collapsed": false
   },
   "outputs": [
    {
     "name": "stdout",
     "output_type": "stream",
     "text": [
      "                Id      SalePrice\n",
      "count  1459.000000    1459.000000\n",
      "mean   2190.000000  157694.729952\n",
      "std     421.321334   44171.202786\n",
      "min    1461.000000   35311.000000\n",
      "25%    1825.500000  140000.000000\n",
      "50%    2190.000000  140000.000000\n",
      "75%    2554.500000  180000.000000\n",
      "max    2919.000000  385000.000000\n",
      "\n",
      "Train dataset statistics:\n",
      "count      1460.000000\n",
      "mean     180921.195890\n",
      "std       79442.502883\n",
      "min       34900.000000\n",
      "25%      129975.000000\n",
      "50%      163000.000000\n",
      "75%      214000.000000\n",
      "max      755000.000000\n",
      "Name: SalePrice, dtype: float64\n"
     ]
    }
   ],
   "source": [
    "log = LogisticRegression()\n",
    "X = data[['OverallQual', 'GrLivArea', 'GarageCars','ExterQual','GarageArea']]\n",
    "y = data[['SalePrice']]\n",
    "X_test = test[['OverallQual', 'GrLivArea', 'GarageCars','ExterQual','GarageArea']]\n",
    "log.fit(X,y)\n",
    "\n",
    "pred = pd.DataFrame(data=log.predict(X_test))\n",
    "submission = test[['Id']]\n",
    "submission = submission.join(pred)\n",
    "submission.columns = ['Id', 'SalePrice']\n",
    "print(submission.describe())\n",
    "print(\"\\nTrain dataset statistics:\\n{}\".format(data['SalePrice'].describe()))\n",
    "submission.to_csv(\"logistic-5.csv\", sep=',', index=False)\n",
    "# Score: 0.32159 (better than benchmark)"
   ]
  },
  {
   "cell_type": "code",
   "execution_count": 12,
   "metadata": {
    "collapsed": false
   },
   "outputs": [
    {
     "name": "stdout",
     "output_type": "stream",
     "text": [
      "                Id     SalePrice\n",
      "count  1459.000000    1459.00000\n",
      "mean   2190.000000  170238.43523\n",
      "std     421.321334   61250.37737\n",
      "min    1461.000000   34900.00000\n",
      "25%    1825.500000  135000.00000\n",
      "50%    2190.000000  160000.00000\n",
      "75%    2554.500000  185000.00000\n",
      "max    2919.000000  611657.00000\n",
      "\n",
      "Train dataset statistics:\n",
      "count      1460.000000\n",
      "mean     180921.195890\n",
      "std       79442.502883\n",
      "min       34900.000000\n",
      "25%      129975.000000\n",
      "50%      163000.000000\n",
      "75%      214000.000000\n",
      "max      755000.000000\n",
      "Name: SalePrice, dtype: float64\n"
     ]
    }
   ],
   "source": [
    "log = LogisticRegression()\n",
    "X = data[['OverallQual', 'GrLivArea', 'GarageCars','ExterQual','GarageArea','TotalBsmtSF','1stFlrSF','BsmtQual','KitchenQual','FullBath']]\n",
    "y = data[['SalePrice']]\n",
    "X_test = test[['OverallQual', 'GrLivArea', 'GarageCars','ExterQual','GarageArea','TotalBsmtSF','1stFlrSF','BsmtQual','KitchenQual','FullBath']]\n",
    "log.fit(X,y)\n",
    "\n",
    "pred = pd.DataFrame(data=log.predict(X_test))\n",
    "submission = test[['Id']]\n",
    "submission = submission.join(pred)\n",
    "submission.columns = ['Id', 'SalePrice']\n",
    "print(submission.describe())\n",
    "print(\"\\nTrain dataset statistics:\\n{}\".format(data['SalePrice'].describe()))\n",
    "submission.to_csv(\"logistic-10.csv\", sep=',', index=False)\n",
    "# Score: 0.29927 (better but not as good as decision tree)"
   ]
  },
  {
   "cell_type": "code",
   "execution_count": null,
   "metadata": {
    "collapsed": false
   },
   "outputs": [],
   "source": [
    "print(test['SaleCondition'].isnull().sum())\n",
    "# test['MSZoning']\n",
    "# print(data['SalePrice'].describe())"
   ]
  },
  {
   "cell_type": "markdown",
   "metadata": {},
   "source": [
    "### Feature Engineering\n",
    "Use PCA to develop new features from combinations of raw features (like in market segmentation problem). Use these new features as input to logistic regression, decision tree or neural network models."
   ]
  },
  {
   "cell_type": "code",
   "execution_count": null,
   "metadata": {
    "collapsed": false
   },
   "outputs": [],
   "source": [
    "# Apply PCA by fitting the good data with the same number of dimensions as features\n",
    "pca = PCA(n_components = 6).fit(data)\n",
    "\n",
    "print(pca.explained_variance_ratio_[0] + pca.explained_variance_ratio_[1])\n",
    "print(pca.explained_variance_ratio_[0] + pca.explained_variance_ratio_[1] + pca.explained_variance_ratio_[2] + pca.explained_variance_ratio_[3])"
   ]
  },
  {
   "cell_type": "code",
   "execution_count": null,
   "metadata": {
    "collapsed": false
   },
   "outputs": [],
   "source": [
    "#  Transform the data using the PCA fit above\n",
    "reduced_data = pca.transform(data)\n",
    "pca_test = PCA(n_components = 6).fit(test)\n",
    "reduced_test = pca_test.transform(test)\n",
    "# Create a DataFrame for the reduced data\n",
    "reduced_data = pd.DataFrame(reduced_data, columns = ['Dimension 1', 'Dimension 2','Dimension 3','Dimension 4','Dimension 5','Dimension 6'])\n",
    "y = data[['SalePrice']]\n",
    "log = LogisticRegression()\n",
    "log.fit(reduced_data,y)\n",
    "pred = pd.DataFrame(data=log.predict(reduced_test))\n",
    "submission = test[['Id']]\n",
    "submission = submission.join(pred)\n",
    "submission.columns = ['Id', 'SalePrice']\n",
    "print(submission.describe())\n",
    "print(\"\\nTrain dataset statistics:\\n{}\".format(data['SalePrice'].describe()))\n",
    "submission.to_csv(\"logistic-pca.csv\", sep=',', index=False)\n",
    "# Score: 0.46361 (not good)"
   ]
  },
  {
   "cell_type": "code",
   "execution_count": 13,
   "metadata": {
    "collapsed": true
   },
   "outputs": [],
   "source": [
    "from sklearn.metrics import r2_score as r2\n",
    "def performance_metric(y_true, y_predict):\n",
    "    \"\"\" Calculates and returns the performance score between \n",
    "        true and predicted values based on the metric chosen. \"\"\"\n",
    "    \n",
    "    # Calculates the performance score between 'y_true' and 'y_predict'\n",
    "    score = r2(y_true, y_predict)\n",
    "    return score"
   ]
  },
  {
   "cell_type": "code",
   "execution_count": 14,
   "metadata": {
    "collapsed": false
   },
   "outputs": [],
   "source": [
    "# grid search cv\n",
    "def fit_model(X, y):\n",
    "    \"\"\" Performs grid search over the 'max_depth' parameter for a \n",
    "        decision tree regressor trained on the input data [X, y]. \"\"\"\n",
    "    \n",
    "    # Create cross-validation sets from the training data\n",
    "    cv_sets = ShuffleSplit(n_splits=10, test_size = 0.20, random_state = 0)\n",
    "    # Creates a decision tree regressor object\n",
    "    regressor = DecisionTreeRegressor()\n",
    "    # Creates a dictionary for the parameter 'max_depth' with a range from 1 to 10\n",
    "    params = {'max_depth': range(1, 11)}\n",
    "    # Transforms 'performance_metric' into a scoring function using 'make_scorer' \n",
    "    scoring_fnc = make_scorer(performance_metric)\n",
    "    # Creates the grid search object\n",
    "    grid = GridSearchCV(estimator=regressor, param_grid=params, scoring=scoring_fnc, cv=cv_sets)\n",
    "    # Fit the grid search object to the data to compute the optimal model\n",
    "    grid = grid.fit(X, y)\n",
    "    # Return the optimal model after fitting the data\n",
    "    return grid.best_estimator_"
   ]
  },
  {
   "cell_type": "code",
   "execution_count": null,
   "metadata": {
    "collapsed": false
   },
   "outputs": [],
   "source": [
    "X = data[['OverallQual', 'GrLivArea', 'GarageCars','ExterQual','GarageArea','TotalBsmtSF','1stFlrSF','BsmtQual','KitchenQual','FullBath']]\n",
    "y = data[['SalePrice']]\n",
    "X_test = test[['OverallQual', 'GrLivArea', 'GarageCars','ExterQual','GarageArea','TotalBsmtSF','1stFlrSF','BsmtQual','KitchenQual','FullBath']]\n",
    "reg = fit_model(X, y)\n",
    "\n",
    "pred = pd.DataFrame(data=reg.predict(X_test))\n",
    "submission = test[['Id']]\n",
    "submission = submission.join(pred)\n",
    "submission.columns = ['Id', 'SalePrice']\n",
    "print(submission.describe())\n",
    "print(\"\\nTrain dataset statistics:\\n{}\".format(data['SalePrice'].describe()))\n",
    "submission.to_csv(\"regressor.csv\", sep=',', index=False)\n",
    "# Score: 0.19717 (best so far!) "
   ]
  },
  {
   "cell_type": "markdown",
   "metadata": {},
   "source": [
    "Foundation      0.382479\n",
    "BsmtFinSF1      0.386420\n",
    "HeatingQC       0.400178\n",
    "GarageType      0.415283\n",
    "GarageFinish    0.425684\n",
    "Fireplaces      0.466929\n",
    "MasVnrArea      0.472614\n",
    "YearRemodAdd    0.507101\n",
    "YearBuilt       0.522897\n",
    "TotRmsAbvGrd    0.533723\n",
    "FullBath        0.560664\n",
    "KitchenQual     0.589189\n",
    "BsmtQual        0.593734\n",
    "1stFlrSF        0.605852\n",
    "TotalBsmtSF     0.613581\n",
    "GarageArea      0.623431\n",
    "ExterQual       0.636884\n",
    "GarageCars      0.640409\n",
    "GrLivArea       0.708624\n",
    "OverallQual     0.790982"
   ]
  },
  {
   "cell_type": "code",
   "execution_count": 15,
   "metadata": {
    "collapsed": false
   },
   "outputs": [
    {
     "name": "stdout",
     "output_type": "stream",
     "text": [
      "                Id      SalePrice\n",
      "count  1459.000000    1459.000000\n",
      "mean   2190.000000  179276.812133\n",
      "std     421.321334   73579.916881\n",
      "min    1461.000000   48652.750000\n",
      "25%    1825.500000  127820.205882\n",
      "50%    2190.000000  161169.031250\n",
      "75%    2554.500000  201156.913793\n",
      "max    2919.000000  547285.400000\n",
      "\n",
      "Train dataset statistics:\n",
      "count      1460.000000\n",
      "mean     180921.195890\n",
      "std       79442.502883\n",
      "min       34900.000000\n",
      "25%      129975.000000\n",
      "50%      163000.000000\n",
      "75%      214000.000000\n",
      "max      755000.000000\n",
      "Name: SalePrice, dtype: float64\n"
     ]
    }
   ],
   "source": [
    "X = data[['OverallQual', 'GrLivArea', 'GarageCars','ExterQual','GarageArea','TotalBsmtSF','1stFlrSF','BsmtQual','KitchenQual',\n",
    "          'FullBath','TotRmsAbvGrd','YearBuilt','YearRemodAdd','MasVnrArea']]\n",
    "y = data[['SalePrice']]\n",
    "X_test = test[['OverallQual', 'GrLivArea', 'GarageCars','ExterQual','GarageArea','TotalBsmtSF','1stFlrSF','BsmtQual','KitchenQual','FullBath','TotRmsAbvGrd','YearBuilt','YearRemodAdd','MasVnrArea']]\n",
    "reg = fit_model(X, y)\n",
    "\n",
    "pred = pd.DataFrame(data=reg.predict(X_test))\n",
    "submission = test[['Id']]\n",
    "submission = submission.join(pred)\n",
    "submission.columns = ['Id', 'SalePrice']\n",
    "print(submission.describe())\n",
    "print(\"\\nTrain dataset statistics:\\n{}\".format(data['SalePrice'].describe()))\n",
    "submission.to_csv(\"regressor-14.csv\", sep=',', index=False)\n",
    "# Score: 0.19717 (best so far!) "
   ]
  },
  {
   "cell_type": "markdown",
   "metadata": {},
   "source": [
    "### PCA on 10 dimensions"
   ]
  },
  {
   "cell_type": "code",
   "execution_count": null,
   "metadata": {
    "collapsed": false
   },
   "outputs": [],
   "source": [
    "X = data[['OverallQual', 'GrLivArea', 'GarageCars','ExterQual','GarageArea','TotalBsmtSF','1stFlrSF','BsmtQual','KitchenQual','FullBath']]\n",
    "y = data[['SalePrice']]\n",
    "X_test = test[['OverallQual', 'GrLivArea', 'GarageCars','ExterQual','GarageArea','TotalBsmtSF','1stFlrSF','BsmtQual','KitchenQual','FullBath']]\n",
    "pca = PCA(n_components = 4).fit(X)\n",
    "\n",
    "print(pca.explained_variance_ratio_[0] + pca.explained_variance_ratio_[1])\n",
    "print(pca.explained_variance_ratio_[0] + pca.explained_variance_ratio_[1] + pca.explained_variance_ratio_[2] + + pca.explained_variance_ratio_[3] )\n",
    "\n",
    "#  Transform the data using the PCA fit above\n",
    "reduced_data = pca.transform(X)\n",
    "# pca_test = PCA(n_components = 4).fit(X_test)\n",
    "reduced_test = pca.transform(X_test)\n",
    "\n",
    "# Create a DataFrame for the reduced data\n",
    "reduced_data = pd.DataFrame(reduced_data, columns = ['Dimension 1', 'Dimension 2','Dimension 3','Dimension 4'])\n",
    "\n",
    "# log = LogisticRegression()\n",
    "# log.fit(reduced_data,y)\n",
    "\n",
    "reg = fit_model(reduced_data, y)\n",
    "\n",
    "pred = pd.DataFrame(data=reg.predict(reduced_test))\n",
    "submission = test[['Id']]\n",
    "submission = submission.join(pred)\n",
    "submission.columns = ['Id', 'SalePrice']\n",
    "print(submission.describe())\n",
    "print(\"\\nTrain dataset statistics:\\n{}\".format(data['SalePrice'].describe()))\n",
    "submission.to_csv(\"reg-pca10.csv\", sep=',', index=False)\n",
    "# Score: 0.23471"
   ]
  },
  {
   "cell_type": "code",
   "execution_count": null,
   "metadata": {
    "collapsed": false
   },
   "outputs": [],
   "source": [
    "# loop over classifiers\n",
    "X = data[['OverallQual', 'GrLivArea', 'GarageCars','ExterQual','GarageArea','TotalBsmtSF','1stFlrSF','BsmtQual','KitchenQual','FullBath']]\n",
    "y = data[['SalePrice']]\n",
    "X_test = test[['OverallQual', 'GrLivArea', 'GarageCars','ExterQual','GarageArea','TotalBsmtSF','1stFlrSF','BsmtQual','KitchenQual','FullBath']]\n",
    "\n",
    "print(\"\\nTrain dataset statistics:\\n{}\".format(data['SalePrice'].describe()))\n",
    "\n",
    "names = [\"NearestNeighbors.csv\", \"LinearSVM.csv\", \"RBF-SVM.csv\", \n",
    "         \"DecisionTree.csv\", \"RandomForest.csv\", \"NeuralNet.csv\", \n",
    "         \"AdaBoost.csv\", \"NaiveBayes.csv\", \"QDA.csv\", \"GaussianProcess.csv\"]\n",
    "\n",
    "classifiers = [\n",
    "    KNeighborsClassifier(3),\n",
    "    SVC(kernel=\"linear\", C=0.025),\n",
    "    SVC(gamma=2, C=1),\n",
    "    DecisionTreeClassifier(max_depth=5),\n",
    "    RandomForestClassifier(max_depth=5, n_estimators=10, max_features=1),\n",
    "    MLPClassifier(alpha=1),\n",
    "    AdaBoostClassifier(),\n",
    "    QuadraticDiscriminantAnalysis(),\n",
    "    GaussianProcessClassifier(1.0 * RBF(1.0), warm_start=True)]\n",
    "\n",
    "# iterate over classifiers\n",
    "for name, clf in zip(names, classifiers):\n",
    "    clf.fit(X , y)\n",
    "    pred = pd.DataFrame(data=clf.predict(X_test))\n",
    "    submission = test[['Id']]\n",
    "    submission = submission.join(pred)\n",
    "    submission.columns = ['Id', 'SalePrice']\n",
    "    print(submission.describe())\n",
    "    submission.to_csv(name, sep=',', index=False)\n",
    "# Scores: \n",
    "# Nearest Neighbors - 0.32036\n",
    "# Linear SVM - 0.26192\n",
    "# RBF-SVM - 0.44673\n",
    "# DecisionTree - 0.28187\n",
    "# RandomForest - 0.24847\n",
    "# NeuralNet - 0.48200\n",
    "# AdaBoost - 0.32510\n",
    "# NaiveBayes - 0.24422\n",
    "# QDA\n",
    "# GaussianProcess\n",
    "\n"
   ]
  },
  {
   "cell_type": "code",
   "execution_count": 18,
   "metadata": {
    "collapsed": false
   },
   "outputs": [
    {
     "name": "stdout",
     "output_type": "stream",
     "text": [
      "                Id      SalePrice\n",
      "count  1459.000000    1459.000000\n",
      "mean   2190.000000  179276.812133\n",
      "std     421.321334   73579.916881\n",
      "min    1461.000000   48652.750000\n",
      "25%    1825.500000  127820.205882\n",
      "50%    2190.000000  161169.031250\n",
      "75%    2554.500000  201156.913793\n",
      "max    2919.000000  547285.400000\n",
      "\n",
      "Train dataset statistics:\n",
      "count      1460.000000\n",
      "mean     180921.195890\n",
      "std       79442.502883\n",
      "min       34900.000000\n",
      "25%      129975.000000\n",
      "50%      163000.000000\n",
      "75%      214000.000000\n",
      "max      755000.000000\n",
      "Name: SalePrice, dtype: float64\n"
     ]
    }
   ],
   "source": [
    "from sklearn.linear_model import BayesianRidge\n",
    "X = data[['OverallQual', 'GrLivArea', 'GarageCars','ExterQual','GarageArea','TotalBsmtSF','1stFlrSF','BsmtQual','KitchenQual',\n",
    "          'FullBath','TotRmsAbvGrd','YearBuilt','YearRemodAdd','MasVnrArea']]\n",
    "y = data[['SalePrice']]\n",
    "X_test = test[['OverallQual', 'GrLivArea', 'GarageCars','ExterQual','GarageArea','TotalBsmtSF','1stFlrSF','BsmtQual','KitchenQual','FullBath','TotRmsAbvGrd','YearBuilt','YearRemodAdd','MasVnrArea']]\n",
    "\n",
    "clf = BayesianRidge(compute_score=True)\n",
    "clf.fit(X, y)\n",
    "pred = pd.DataFrame(data=reg.predict(X_test))\n",
    "submission = test[['Id']]\n",
    "submission = submission.join(pred)\n",
    "submission.columns = ['Id', 'SalePrice']\n",
    "print(submission.describe())\n",
    "print(\"\\nTrain dataset statistics:\\n{}\".format(data['SalePrice'].describe()))\n",
    "submission.to_csv(\"bayesian-ridge.csv\", sep=',', index=False)\n",
    "# Score: 0.20269"
   ]
  },
  {
   "cell_type": "code",
   "execution_count": 27,
   "metadata": {
    "collapsed": false
   },
   "outputs": [],
   "source": [
    "# grid search cv\n",
    "def fit_model(X, y):\n",
    "    \"\"\" Performs grid search over the 'max_depth' parameter for a \n",
    "        decision tree regressor trained on the input data [X, y]. \"\"\"\n",
    "    \n",
    "    # Create cross-validation sets from the training data\n",
    "    cv_sets = ShuffleSplit(n_splits=10, test_size = 0.20, random_state = 0)\n",
    "    # Creates a decision tree regressor object\n",
    "    regressor = BayesianRidge(compute_score=True)\n",
    "    # Creates a dictionary for the parameter \n",
    "    params = {'alpha_1': range(200) }\n",
    "    # Transforms 'performance_metric' into a scoring function using 'make_scorer' \n",
    "    scoring_fnc = make_scorer(performance_metric)\n",
    "    # Creates the grid search object\n",
    "    grid = GridSearchCV(estimator=regressor, param_grid=params, scoring=scoring_fnc, cv=cv_sets)\n",
    "    # Fit the grid search object to the data to compute the optimal model\n",
    "    grid = grid.fit(X, y)\n",
    "    # Return the optimal model after fitting the data\n",
    "    print(grid.best_estimator_)\n",
    "    return grid.best_estimator_"
   ]
  },
  {
   "cell_type": "code",
   "execution_count": 28,
   "metadata": {
    "collapsed": false
   },
   "outputs": [
    {
     "name": "stdout",
     "output_type": "stream",
     "text": [
      "BayesianRidge(alpha_1=199, alpha_2=1e-06, compute_score=True, copy_X=True,\n",
      "       fit_intercept=True, lambda_1=1e-06, lambda_2=1e-06, n_iter=300,\n",
      "       normalize=False, tol=0.001, verbose=False)\n",
      "                Id      SalePrice\n",
      "count  1459.000000    1459.000000\n",
      "mean   2190.000000  173433.654005\n",
      "std     421.321334   74749.538592\n",
      "min    1461.000000    4775.342571\n",
      "25%    1825.500000  117934.829467\n",
      "50%    2190.000000  157247.378564\n",
      "75%    2554.500000  217363.053192\n",
      "max    2919.000000  636577.240892\n",
      "\n",
      "Train dataset statistics:\n",
      "count      1460.000000\n",
      "mean     180921.195890\n",
      "std       79442.502883\n",
      "min       34900.000000\n",
      "25%      129975.000000\n",
      "50%      163000.000000\n",
      "75%      214000.000000\n",
      "max      755000.000000\n",
      "Name: SalePrice, dtype: float64\n"
     ]
    }
   ],
   "source": [
    "reg = fit_model(X, y)\n",
    "\n",
    "pred = pd.DataFrame(data=reg.predict(X_test))\n",
    "submission = test[['Id']]\n",
    "submission = submission.join(pred)\n",
    "submission.columns = ['Id', 'SalePrice']\n",
    "print(submission.describe())\n",
    "print(\"\\nTrain dataset statistics:\\n{}\".format(data['SalePrice'].describe()))\n",
    "submission.to_csv(\"bayesian-grid.csv\", sep=',', index=False)\n",
    "# Score: 0.23404"
   ]
  },
  {
   "cell_type": "code",
   "execution_count": 35,
   "metadata": {
    "collapsed": false
   },
   "outputs": [],
   "source": [
    "from sklearn.tree import DecisionTreeRegressor\n",
    "# grid search cv\n",
    "def fit_model(X, y):\n",
    "    \"\"\" Performs grid search over the 'max_depth' parameter for a \n",
    "        decision tree regressor trained on the input data [X, y]. \"\"\"\n",
    "    # Create cross-validation sets from the training data\n",
    "    cv_sets = ShuffleSplit(n_splits=20, test_size = 0.20, random_state = 0)\n",
    "    # Creates a decision tree regressor object\n",
    "    regressor = DecisionTreeRegressor()\n",
    "    # Creates a dictionary for the parameter \n",
    "    params = {'max_depth': range(1,12), 'min_samples_split': range(2,20) }\n",
    "    # Transforms 'performance_metric' into a scoring function using 'make_scorer' \n",
    "    scoring_fnc = make_scorer(performance_metric)\n",
    "    # Creates the grid search object\n",
    "    grid = GridSearchCV(estimator=regressor, param_grid=params, scoring=scoring_fnc, cv=cv_sets)\n",
    "    # Fit the grid search object to the data to compute the optimal model\n",
    "    grid = grid.fit(X, y)\n",
    "    # Return the optimal model after fitting the data\n",
    "    print(grid.best_estimator_)\n",
    "    return grid.best_estimator_"
   ]
  },
  {
   "cell_type": "code",
   "execution_count": 36,
   "metadata": {
    "collapsed": false
   },
   "outputs": [
    {
     "name": "stdout",
     "output_type": "stream",
     "text": [
      "DecisionTreeRegressor(criterion='mse', max_depth=8, max_features=None,\n",
      "           max_leaf_nodes=None, min_impurity_split=1e-07,\n",
      "           min_samples_leaf=1, min_samples_split=15,\n",
      "           min_weight_fraction_leaf=0.0, presort=False, random_state=None,\n",
      "           splitter='best')\n",
      "                Id      SalePrice\n",
      "count  1459.000000    1459.000000\n",
      "mean   2190.000000  179543.504134\n",
      "std     421.321334   75219.955448\n",
      "min    1461.000000   48652.750000\n",
      "25%    1825.500000  126314.757576\n",
      "50%    2190.000000  164643.750000\n",
      "75%    2554.500000  206700.000000\n",
      "max    2919.000000  597000.000000\n",
      "\n",
      "Train dataset statistics:\n",
      "count      1460.000000\n",
      "mean     180921.195890\n",
      "std       79442.502883\n",
      "min       34900.000000\n",
      "25%      129975.000000\n",
      "50%      163000.000000\n",
      "75%      214000.000000\n",
      "max      755000.000000\n",
      "Name: SalePrice, dtype: float64\n"
     ]
    }
   ],
   "source": [
    "X = data[['OverallQual', 'GrLivArea', 'GarageCars','ExterQual','GarageArea','TotalBsmtSF','1stFlrSF','BsmtQual','KitchenQual',\n",
    "          'FullBath','TotRmsAbvGrd','YearBuilt','YearRemodAdd','MasVnrArea']]\n",
    "y = data[['SalePrice']]\n",
    "X_test = test[['OverallQual', 'GrLivArea', 'GarageCars','ExterQual','GarageArea','TotalBsmtSF','1stFlrSF','BsmtQual','KitchenQual','FullBath','TotRmsAbvGrd','YearBuilt','YearRemodAdd','MasVnrArea']]\n",
    "reg = fit_model(X, y)\n",
    "pred = pd.DataFrame(data=reg.predict(X_test))\n",
    "submission = test[['Id']]\n",
    "submission = submission.join(pred)\n",
    "submission.columns = ['Id', 'SalePrice']\n",
    "print(submission.describe())\n",
    "print(\"\\nTrain dataset statistics:\\n{}\".format(data['SalePrice'].describe()))\n",
    "submission.to_csv(\"decision-tree-grid.csv\", sep=',', index=False)\n",
    "# Score: 0.19998"
   ]
  },
  {
   "cell_type": "code",
   "execution_count": null,
   "metadata": {
    "collapsed": true
   },
   "outputs": [],
   "source": []
  }
 ],
 "metadata": {
  "anaconda-cloud": {},
  "kernelspec": {
   "display_name": "Python 2",
   "language": "python",
   "name": "python2"
  },
  "language_info": {
   "codemirror_mode": {
    "name": "ipython",
    "version": 2
   },
   "file_extension": ".py",
   "mimetype": "text/x-python",
   "name": "python",
   "nbconvert_exporter": "python",
   "pygments_lexer": "ipython2",
   "version": "2.7.12"
  }
 },
 "nbformat": 4,
 "nbformat_minor": 1
}
